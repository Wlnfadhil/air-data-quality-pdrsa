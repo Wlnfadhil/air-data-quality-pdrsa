{
 "cells": [
  {
   "cell_type": "code",
   "execution_count": null,
   "metadata": {},
   "outputs": [],
   "source": [
    "import os\n",
    "\n",
    "# Create the main directory\n",
    "os.makedirs('submission')\n",
    "\n",
    "# Create the 'dashboard' subdirectory\n",
    "os.makedirs('submission/dashboard')\n",
    "\n",
    "# Create files within the 'dashboard' subdirectory\n",
    "open('submission/dashboard/main_data.csv', 'w').close()\n",
    "open('submission/dashboard/dashboard.py', 'w').close()\n",
    "\n",
    "# Create the 'data' subdirectory\n",
    "os.makedirs('submission/data')\n",
    "\n",
    "# Create files within the 'data' subdirectory\n",
    "\n",
    "\n",
    "# Create the remaining files\n",
    "open('submission/notebook.ipynb', 'w').close()\n",
    "open('submission/README.md', 'w').close()\n",
    "open('submission/requirements.txt', 'w').close()\n",
    "open('submission/url.txt', 'w').close()\n",
    "\n",
    "print(\"Struktur direktori submission telah dibuat dengan sukses!\")\n"
   ]
  }
 ],
 "metadata": {
  "kernelspec": {
   "display_name": "Python 3",
   "language": "python",
   "name": "python3"
  },
  "language_info": {
   "name": "python",
   "version": "3.11.9"
  }
 },
 "nbformat": 4,
 "nbformat_minor": 2
}
